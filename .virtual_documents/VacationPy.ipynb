


# Dependencies and Setup
import hvplot.pandas
import pandas as pd
import requests
from pathlib import Path

# Import API key
from api_keys import geoapify_key


# Load the CSV file created in Part 1 into a Pandas DataFrame
csv_file = Path("output_data/cities.csv")
city_data_df = pd.read_csv(csv_file)

# Display sample data
city_data_df.head()





%%capture --no-display

# Configure the map plot
city_humidity_map = city_data_df.hvplot.points(
    "Lng",
    "Lat",
    color = "City",
    size = "Humidity",
    scale = 2,
    alpha = 0.3,
    geo = True,
    tiles = "OSM",
    frame_width = 1500,
    frame_height = 1000)

# Display the map
city_humidity_map





# Narrow down cities that fit criteria and drop any results with null values
max_temp = 27
min_temp = 21
max_wind = 4.5
cloud_cover = 20
min_humid = 20
max_humid = 80

# Drop any rows with null values
clean_data_df = city_data_df.dropna(how="any")

# Given the base values provided above, define the ideal weather conditions
criteria_temp = (clean_data_df['Max Temp'] < max_temp) & (clean_data_df['Max Temp'] > min_temp)
criteria_wind = clean_data_df['Wind Speed'] < max_wind
criteria_cloud = clean_data_df['Cloudiness'] < cloud_cover
criteria_humid = (clean_data_df['Humidity'] < max_humid) & (clean_data_df['Humidity'] > min_humid)

# Create the dataframe with ideal weather conditions
ideal_weather_df = clean_data_df.loc[criteria_temp & criteria_wind & criteria_cloud & criteria_humid]

# Display sample data
ideal_weather_df.head()





# Use the Pandas copy function to create DataFrame called hotel_df to store the city, country, coordinates, and humidity
hotel_df = ideal_weather_df[['City', 'Country', 'Lat', 'Lng', 'Humidity']]

# Add an empty column, "Hotel Name," to the DataFrame so you can store the hotel found using the Geoapify API
hotel_df.insert(len(hotel_df.columns), 'Hotel Name', "")

# Display sample data
hotel_df.head()





# Set parameters to search for a hotel
radius = 10000
params = {
    'apiKey': geoapify_key,
    'categories': "accommodation.hotel"
}

# Print a message to follow up the hotel search
print("Starting hotel search")

# Iterate through the hotel_df DataFrame
for index, row in hotel_df.iterrows():
    # get latitude, longitude from the DataFrame
    latitude = row['Lat']
    longitude = row['Lng']
    
    # Add filter and bias parameters with the current city's latitude and longitude to the params dictionary
    params["filter"] = f"circle:{longitude},{latitude},{radius}"
    params["bias"] = f"proximity:{longitude},{latitude}"
    
    # Set base URL
    base_url = "https://api.geoapify.com/v2/places"

    # Make and API request using the params dictionaty
    name_address = requests.get(base_url, params=params)
    
    # Convert the API response to JSON format
    name_address = name_address.json()
    
    # Grab the first hotel from the results and store the name in the hotel_df DataFrame
    try:
        hotel_df.loc[index, "Hotel Name"] = name_address["features"][0]["properties"]["name"]
    except (KeyError, IndexError):
        # If no hotel is found, set the hotel name as "No hotel found".
        hotel_df.loc[index, "Hotel Name"] = "No hotel found"
        
    # Log the search results
    print(f"{hotel_df.loc[index, 'City']} - nearest hotel: {hotel_df.loc[index, 'Hotel Name']}")

# Display sample data
hotel_df





%%capture --no-display

# Remove countries with 'No hotel found'
hotels_only_df = hotel_df.drop(hotel_df[hotel_df['Hotel Name'] == 'No hotel found'].index)

# Configure the map plot
hotel_map = hotels_only_df.hvplot.points(
    "Lng",
    "Lat",
    color = "City",
    size = "Humidity",
    scale = 8,
    alpha = 0.3,
    geo = True,
    tiles = "OSM",
    frame_width = 1500,
    frame_height = 1000,
    hover_cols = ['Hotel Name', 'Country'])

# Display the map
hotel_map



