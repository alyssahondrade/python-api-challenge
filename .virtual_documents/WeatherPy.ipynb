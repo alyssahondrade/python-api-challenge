


# Dependencies and Setup
import matplotlib.pyplot as plt
import pandas as pd
import numpy as np
import requests
import time
from scipy.stats import linregress

# Impor the OpenWeatherMap API key
from api_keys import weather_api_key

# Import citipy to determine the cities based on latitude and longitude
from citipy import citipy





# Empty list for holding the latitude and longitude combinations
lat_lngs = []

# Empty list for holding the cities names
cities = []

# Range of latitudes and longitudes
lat_range = (-90, 90)
lng_range = (-180, 180)

# Create a set of random lat and lng combinations
lats = np.random.uniform(lat_range[0], lat_range[1], size=1500)
lngs = np.random.uniform(lng_range[0], lng_range[1], size=1500)
lat_lngs = zip(lats, lngs)

# Identify nearest city for each lat, lng combination
for lat_lng in lat_lngs:
    city = citipy.nearest_city(lat_lng[0], lat_lng[1]).city_name
    
    # If the city is unique, then add it to a our cities list
    if city not in cities:
        cities.append(city)

# Print the city count to confirm sufficient count
print(f"Number of cities in the list: {len(cities)}")








# Set the API base URL
url = f"https://api.openweathermap.org/data/2.5/weather?appid="

# Define an empty list to fetch the weather data for each city
city_data = []

# Print to logger
print("Beginning Data Retrieval     ")
print("-----------------------------")

# Create counters
record_count = 1
set_count = 1

# Loop through all the cities in our list to fetch weather data
for i, city in enumerate(cities):
        
    # Group cities in sets of 50 for logging purposes
    if (i % 50 == 0 and i >= 50):
        set_count += 1
        record_count = 0

    # Create endpoint URL with each city
    city_url = f"{url}{weather_api_key}&units=metric&q={city}"
    
    # Log the url, record, and set numbers
    print("Processing Record %s of Set %s | %s" % (record_count, set_count, city))

    # Add 1 to the record count
    record_count += 1

    # Run an API request for each of the cities
    try:
        # Parse the JSON and retrieve data
        city_weather = requests.get(city_url).json()
        
        # Parse out latitude, longitude, max temp, humidity, cloudiness, wind speed, country, and date
        city_lat = city_weather['coord']['lat']
        city_lng = city_weather['coord']['lon']
        city_max_temp = city_weather['main']['temp_max']
        city_humidity = city_weather['main']['humidity']
        city_clouds = city_weather['clouds']['all']
        city_wind = city_weather['wind']['speed']
        city_country = city_weather['sys']['country']
        city_date = city_weather['dt']

        # Append the City information into city_data list
        city_data.append({"City": city, 
                          "Lat": city_lat, 
                          "Lng": city_lng, 
                          "Max Temp": city_max_temp,
                          "Humidity": city_humidity,
                          "Cloudiness": city_clouds,
                          "Wind Speed": city_wind,
                          "Country": city_country,
                          "Date": city_date})

    # If an error is experienced, skip the city
    except:
        print("City not found. Skipping...")
        pass
              
# Indicate that Data Loading is complete 
print("-----------------------------")
print("Data Retrieval Complete      ")
print("-----------------------------")


# Convert the cities weather data into a Pandas DataFrame
city_data_df = pd.DataFrame(city_data)

# Show Record Count
city_data_df.count()


# Display sample data
city_data_df.head()


# Export the City_Data into a csv
city_data_df.to_csv("output_data/cities.csv", index_label="City_ID")


# Read saved data
city_data_df = pd.read_csv("output_data/cities.csv", index_col="City_ID")

# Display sample data
city_data_df.head()





# Build scatter plot for latitude vs. temperature
lat_temp = city_data_df.plot(
    kind="scatter", x="Lat", y="Max Temp", title="Latitude vs. Max Temperature (28 Aug 2023)")

# Incorporate the other graph properties
lat_temp.set_xlabel("Latitude")
lat_temp.set_ylabel("Max Temperature (C)")
lat_temp.grid(True)

# Save the figure
plt.savefig("output_data/Fig1.png")

# Show plot
plt.show()





# Build the scatter plots for latitude vs. humidity
lat_humid = city_data_df.plot(
    kind="scatter", x="Lat", y="Humidity", title="Latitude vs. Humidity (28 Aug 2023)")

# Incorporate the other graph properties
lat_humid.set_xlabel("Latitude")
lat_humid.set_ylabel("Humidity (%)")
lat_humid.grid(True)

# Save the figure
plt.savefig("output_data/Fig2.png")

# Show plot
plt.show()





# Build the scatter plots for latitude vs. cloudiness
lat_cloud = city_data_df.plot(
    kind="scatter", x="Lat", y="Cloudiness", title="Latitude vs. Cloudiness  (28 Aug 2023)")

# Incorporate the other graph properties
lat_cloud.set_xlabel("Latitude")
lat_cloud.set_ylabel("Cloudiness (%)")
lat_cloud.grid(True)

# Save the figure
plt.savefig("output_data/Fig3.png")

# Show plot
plt.show()





# Build the scatter plots for latitude vs. wind speed
lat_wind = city_data_df.plot(
    kind="scatter", x="Lat", y="Wind Speed", title="Latitude vs. Wind Speed  (28 Aug 2023)")

# Incorporate the other graph properties
lat_wind.set_xlabel("Latitude")
lat_wind.set_ylabel("Wind Speed (m/s)")
lat_wind.grid(True)

# Save the figure
plt.savefig("output_data/Fig4.png")

# Show plot
plt.show()





# Define a function to create Linear Regression plots
def linreg_plot(ax_object, x_values, y_values, x_coord, y_coord):
    # Calculate linear regression for x- and y-values
    (slope, intercept, rvalue, pvalue, stderr) = linregress(x_values, y_values)

    # Get regression values and equation
    regression_values = x_values * slope + intercept
    line_equation = f"y = {round(slope, 2)}x + {round(intercept, 2)}"

    # Calculate the r-value
    print(f"The r-value is: {rvalue**2}")
    
    # Plot linear regression
    ax_object.plot(x_values, regression_values, color="red")
    ax_object.annotate(line_equation, xy=(x_coord, y_coord), xycoords='figure points', fontsize=15, color='red', weight='bold')
    plt.show()


# Create a DataFrame with the Northern Hemisphere data (Latitude >= 0)
northern_hemi_df = city_data_df.loc[city_data_df['Lat'] >= 0]

# Display sample data
northern_hemi_df.head()


# Create a DataFrame with the Southern Hemisphere data (Latitude < 0)
southern_hemi_df = city_data_df.loc[city_data_df['Lat'] < 0]

# Display sample data
southern_hemi_df.head()





# Linear regression on Northern Hemisphere
x_north_temp = northern_hemi_df['Lat']
y_north_temp = northern_hemi_df['Max Temp']

fig_north_temp, ax_north_temp = plt.subplots()
ax_north_temp.scatter(x_north_temp, y_north_temp)
plt.title("Northern Hemisphere - Latitude vs Temperature")
plt.xlabel("Latitude")
plt.ylabel("Max Temperature (C)")
plt.grid(True)

linreg_plot(ax_north_temp, x_north_temp, y_north_temp, 60, 60)


# Linear regression on Southern Hemisphere
x_south_temp = southern_hemi_df['Lat']
y_south_temp = southern_hemi_df['Max Temp']

fig_south_temp, ax_south_temp = plt.subplots()
ax_south_temp.scatter(x_south_temp, y_south_temp)
plt.title("Southern Hemisphere - Latitude vs Temperature")
plt.xlabel("Latitude")
plt.ylabel("Max Temperature (C)")
plt.grid(True)

linreg_plot(ax_south_temp, x_south_temp, y_south_temp, 240, 60)








# Northern Hemisphere
x_north_humid = northern_hemi_df['Lat']
y_north_humid = northern_hemi_df['Humidity']

fig_north_humid, ax_north_humid = plt.subplots()
ax_north_humid.scatter(x_north_humid, y_north_humid)
plt.title("Northern Hemisphere - Latitude vs Humidity")
plt.xlabel("Latitude")
plt.ylabel("Humidity (%)")
plt.grid(True)

linreg_plot(ax_north_humid, x_north_humid, y_north_humid, 240, 50)


# Southern Hemisphere
x_south_humid = southern_hemi_df['Lat']
y_south_humid = southern_hemi_df['Humidity']

fig_south_humid, ax_south_humid = plt.subplots()
ax_south_humid.scatter(x_south_humid, y_south_humid)
plt.title("Southern Hemisphere - Latitude vs Humidity")
plt.xlabel("Latitude")
plt.ylabel("Humidity (%)")
plt.grid(True)

linreg_plot(ax_south_humid, x_south_humid, y_south_humid, 60, 80)








# Northern Hemisphere
x_north_cloud = northern_hemi_df['Lat']
y_north_cloud = northern_hemi_df['Cloudiness']

fig_north_cloud, ax_north_cloud = plt.subplots()
ax_north_cloud.scatter(x_north_cloud, y_north_cloud)
plt.title("Northern Hemisphere - Latitude vs Cloudiness")
plt.xlabel("Latitude")
plt.ylabel("Cloudiness (%)")
plt.grid(True)

linreg_plot(ax_north_cloud, x_north_cloud, y_north_cloud, 160, 115)


# Southern Hemisphere
x_south_cloud = southern_hemi_df['Lat']
y_south_cloud = southern_hemi_df['Cloudiness']

fig_south_cloud, ax_south_cloud = plt.subplots()
ax_south_cloud.scatter(x_south_cloud, y_south_cloud)
plt.title("Southern Hemisphere - Latitude vs Cloudiness")
plt.xlabel("Latitude")
plt.ylabel("Cloudiness (%)")
plt.grid(True)

linreg_plot(ax_south_cloud, x_south_cloud, y_south_cloud, 60, 120)








# Northern Hemisphere
x_north_wind = northern_hemi_df['Lat']
y_north_wind = northern_hemi_df['Wind Speed']

fig_north_wind, ax_north_wind = plt.subplots()
ax_north_wind.scatter(x_north_wind, y_north_wind)
plt.title("Northern Hemisphere - Latitude vs Wind Speed")
plt.xlabel("Latitude")
plt.ylabel("Wind Speed (m/s)")
plt.grid(True)

linreg_plot(ax_north_wind, x_north_wind, y_north_wind, 60, 250)


# Southern Hemisphere
x_south_wind = southern_hemi_df['Lat']
y_south_wind = southern_hemi_df['Wind Speed']

fig_south_wind, ax_south_wind = plt.subplots()
ax_south_wind.scatter(x_south_wind, y_south_wind)
plt.title("Southern Hemisphere - Latitude vs Wind Speed")
plt.xlabel("Latitude")
plt.ylabel("Wind Speed (m/s)")
plt.grid(True)

linreg_plot(ax_south_wind, x_south_wind, y_south_wind, 60, 250)






